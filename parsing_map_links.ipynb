{
 "cells": [
  {
   "cell_type": "code",
   "id": "initial_id",
   "metadata": {
    "collapsed": true,
    "ExecuteTime": {
     "end_time": "2025-03-04T14:27:08.645677Z",
     "start_time": "2025-03-04T14:27:08.640204Z"
    }
   },
   "source": [
    "import pandas as pd\n",
    "import requests\n",
    "from bs4 import BeautifulSoup\n"
   ],
   "outputs": [],
   "execution_count": 76
  },
  {
   "metadata": {},
   "cell_type": "code",
   "outputs": [],
   "execution_count": null,
   "source": [
    "\n",
    "st_accept = \"text/html\" # говорим веб-серверу,\n",
    "                        # что хотим получить html\n",
    "# имитируем подключение через браузер Mozilla на macOS\n",
    "st_useragent = \"Mozilla/5.0 (Macintosh; Intel Mac OS X 12_3_1) AppleWebKit/605.1.15 (KHTML, like Gecko) Version/15.4 Safari/605.1.15\"\n",
    "# формируем хеш заголовков\n",
    "headers = {\n",
    "   \"Accept\": st_accept,\n",
    "   \"User-Agent\": st_useragent\n",
    "}\n",
    "\n",
    "\n",
    "\n",
    "def get_links_from_map():\n",
    "   # отправляем запрос с заголовками по нужному адресу\n",
    "   req = requests.get(\"https://tabiturient.ru/map/\", headers)\n",
    "   # считываем текст HTML-документа\n",
    "   src = req.text\n",
    "\n",
    "   soup = BeautifulSoup(src, 'html.parser')\n",
    "   # Извлекаем все теги <a> с атрибутом href\n",
    "   links = [link.get('href') for link in soup.find_all('a') if link.get('href')]\n",
    "   with open('links.txt', 'w') as f:\n",
    "      for link in links:\n",
    "         f.write(f\"{link}\\n\")"
   ],
   "id": "bb69c9c71ae97d7d"
  },
  {
   "metadata": {
    "ExecuteTime": {
     "end_time": "2025-03-04T14:27:08.780266Z",
     "start_time": "2025-03-04T14:27:08.694137Z"
    }
   },
   "cell_type": "code",
   "source": "data = pd.read_csv('links.txt')",
   "id": "28fc11d72f26154d",
   "outputs": [],
   "execution_count": 77
  },
  {
   "metadata": {
    "ExecuteTime": {
     "end_time": "2025-03-04T14:27:08.804765Z",
     "start_time": "2025-03-04T14:27:08.800277Z"
    }
   },
   "cell_type": "code",
   "source": "data.columns =[\"url\"]",
   "id": "35bc5dc4462fd27e",
   "outputs": [],
   "execution_count": 78
  },
  {
   "metadata": {
    "ExecuteTime": {
     "end_time": "2025-03-04T14:27:08.896323Z",
     "start_time": "2025-03-04T14:27:08.879056Z"
    }
   },
   "cell_type": "code",
   "source": "data",
   "id": "cb5968fe806c8f20",
   "outputs": [
    {
     "data": {
      "text/plain": [
       "                                         url\n",
       "0                     https://tabiturient.ru\n",
       "1                  https://tabiturient.ru/np\n",
       "2          https://tabiturient.ru/calculator\n",
       "3          https://tabiturient.ru/calculator\n",
       "4      https://tabiturient.ru/calculator/pay\n",
       "...                                      ...\n",
       "77316        https://tabiturient.ru/feedback\n",
       "77317   https://tabiturient.ru/admin2/ca.php\n",
       "77318             https://tabiturient.ru/adv\n",
       "77319          https://tabiturient.ru/vuzam2\n",
       "77320              https://tabiturient.ru/kp\n",
       "\n",
       "[77321 rows x 1 columns]"
      ],
      "text/html": [
       "<div>\n",
       "<style scoped>\n",
       "    .dataframe tbody tr th:only-of-type {\n",
       "        vertical-align: middle;\n",
       "    }\n",
       "\n",
       "    .dataframe tbody tr th {\n",
       "        vertical-align: top;\n",
       "    }\n",
       "\n",
       "    .dataframe thead th {\n",
       "        text-align: right;\n",
       "    }\n",
       "</style>\n",
       "<table border=\"1\" class=\"dataframe\">\n",
       "  <thead>\n",
       "    <tr style=\"text-align: right;\">\n",
       "      <th></th>\n",
       "      <th>url</th>\n",
       "    </tr>\n",
       "  </thead>\n",
       "  <tbody>\n",
       "    <tr>\n",
       "      <th>0</th>\n",
       "      <td>https://tabiturient.ru</td>\n",
       "    </tr>\n",
       "    <tr>\n",
       "      <th>1</th>\n",
       "      <td>https://tabiturient.ru/np</td>\n",
       "    </tr>\n",
       "    <tr>\n",
       "      <th>2</th>\n",
       "      <td>https://tabiturient.ru/calculator</td>\n",
       "    </tr>\n",
       "    <tr>\n",
       "      <th>3</th>\n",
       "      <td>https://tabiturient.ru/calculator</td>\n",
       "    </tr>\n",
       "    <tr>\n",
       "      <th>4</th>\n",
       "      <td>https://tabiturient.ru/calculator/pay</td>\n",
       "    </tr>\n",
       "    <tr>\n",
       "      <th>...</th>\n",
       "      <td>...</td>\n",
       "    </tr>\n",
       "    <tr>\n",
       "      <th>77316</th>\n",
       "      <td>https://tabiturient.ru/feedback</td>\n",
       "    </tr>\n",
       "    <tr>\n",
       "      <th>77317</th>\n",
       "      <td>https://tabiturient.ru/admin2/ca.php</td>\n",
       "    </tr>\n",
       "    <tr>\n",
       "      <th>77318</th>\n",
       "      <td>https://tabiturient.ru/adv</td>\n",
       "    </tr>\n",
       "    <tr>\n",
       "      <th>77319</th>\n",
       "      <td>https://tabiturient.ru/vuzam2</td>\n",
       "    </tr>\n",
       "    <tr>\n",
       "      <th>77320</th>\n",
       "      <td>https://tabiturient.ru/kp</td>\n",
       "    </tr>\n",
       "  </tbody>\n",
       "</table>\n",
       "<p>77321 rows × 1 columns</p>\n",
       "</div>"
      ]
     },
     "execution_count": 79,
     "metadata": {},
     "output_type": "execute_result"
    }
   ],
   "execution_count": 79
  },
  {
   "metadata": {
    "ExecuteTime": {
     "end_time": "2025-03-04T14:27:20.342614Z",
     "start_time": "2025-03-04T14:27:09.035277Z"
    }
   },
   "cell_type": "code",
   "source": [
    "pattern = r\"https://tabiturient\\.ru/vuzu/[A-Za-z0-9_.-]+/proxodnoi$\"\n",
    "\n",
    "# Проверяем, содержит ли хотя бы одна ячейка строки нужный шаблон\n",
    "mask = data.apply(lambda row: row.str.contains(pattern, regex=True, na=False).any(), axis=1)\n",
    "data_vizu = data[mask]"
   ],
   "id": "a0c638b0ea23d8e1",
   "outputs": [],
   "execution_count": 80
  },
  {
   "metadata": {
    "ExecuteTime": {
     "end_time": "2025-03-04T14:27:20.381170Z",
     "start_time": "2025-03-04T14:27:20.374126Z"
    }
   },
   "cell_type": "code",
   "source": "data_vizu",
   "id": "964ee734a00b74aa",
   "outputs": [
    {
     "data": {
      "text/plain": [
       "                                                     url\n",
       "41           https://tabiturient.ru/vuzu/agatu/proxodnoi\n",
       "68      https://tabiturient.ru/vuzu/bigpibiysk/proxodnoi\n",
       "102        https://tabiturient.ru/vuzu/altgaki/proxodnoi\n",
       "134          https://tabiturient.ru/vuzu/agiki/proxodnoi\n",
       "156           https://tabiturient.ru/vuzu/asmu/proxodnoi\n",
       "...                                                  ...\n",
       "25811  https://tabiturient.ru/vuzu/theatrinsyar/proxo...\n",
       "25819         https://tabiturient.ru/vuzu/ystu/proxodnoi\n",
       "25875     https://tabiturient.ru/vuzu/uniyarac/proxodnoi\n",
       "25916     https://tabiturient.ru/vuzu/yarpgups/proxodnoi\n",
       "25926  https://tabiturient.ru/vuzu/fa_yaroslavl/proxo...\n",
       "\n",
       "[798 rows x 1 columns]"
      ],
      "text/html": [
       "<div>\n",
       "<style scoped>\n",
       "    .dataframe tbody tr th:only-of-type {\n",
       "        vertical-align: middle;\n",
       "    }\n",
       "\n",
       "    .dataframe tbody tr th {\n",
       "        vertical-align: top;\n",
       "    }\n",
       "\n",
       "    .dataframe thead th {\n",
       "        text-align: right;\n",
       "    }\n",
       "</style>\n",
       "<table border=\"1\" class=\"dataframe\">\n",
       "  <thead>\n",
       "    <tr style=\"text-align: right;\">\n",
       "      <th></th>\n",
       "      <th>url</th>\n",
       "    </tr>\n",
       "  </thead>\n",
       "  <tbody>\n",
       "    <tr>\n",
       "      <th>41</th>\n",
       "      <td>https://tabiturient.ru/vuzu/agatu/proxodnoi</td>\n",
       "    </tr>\n",
       "    <tr>\n",
       "      <th>68</th>\n",
       "      <td>https://tabiturient.ru/vuzu/bigpibiysk/proxodnoi</td>\n",
       "    </tr>\n",
       "    <tr>\n",
       "      <th>102</th>\n",
       "      <td>https://tabiturient.ru/vuzu/altgaki/proxodnoi</td>\n",
       "    </tr>\n",
       "    <tr>\n",
       "      <th>134</th>\n",
       "      <td>https://tabiturient.ru/vuzu/agiki/proxodnoi</td>\n",
       "    </tr>\n",
       "    <tr>\n",
       "      <th>156</th>\n",
       "      <td>https://tabiturient.ru/vuzu/asmu/proxodnoi</td>\n",
       "    </tr>\n",
       "    <tr>\n",
       "      <th>...</th>\n",
       "      <td>...</td>\n",
       "    </tr>\n",
       "    <tr>\n",
       "      <th>25811</th>\n",
       "      <td>https://tabiturient.ru/vuzu/theatrinsyar/proxo...</td>\n",
       "    </tr>\n",
       "    <tr>\n",
       "      <th>25819</th>\n",
       "      <td>https://tabiturient.ru/vuzu/ystu/proxodnoi</td>\n",
       "    </tr>\n",
       "    <tr>\n",
       "      <th>25875</th>\n",
       "      <td>https://tabiturient.ru/vuzu/uniyarac/proxodnoi</td>\n",
       "    </tr>\n",
       "    <tr>\n",
       "      <th>25916</th>\n",
       "      <td>https://tabiturient.ru/vuzu/yarpgups/proxodnoi</td>\n",
       "    </tr>\n",
       "    <tr>\n",
       "      <th>25926</th>\n",
       "      <td>https://tabiturient.ru/vuzu/fa_yaroslavl/proxo...</td>\n",
       "    </tr>\n",
       "  </tbody>\n",
       "</table>\n",
       "<p>798 rows × 1 columns</p>\n",
       "</div>"
      ]
     },
     "execution_count": 81,
     "metadata": {},
     "output_type": "execute_result"
    }
   ],
   "execution_count": 81
  },
  {
   "metadata": {
    "ExecuteTime": {
     "end_time": "2025-03-04T14:28:54.451024Z",
     "start_time": "2025-03-04T14:28:54.436615Z"
    }
   },
   "cell_type": "code",
   "source": "data_vizu.to_csv('vizu_lins.csv', index=False)",
   "id": "db65f4d35a1e243b",
   "outputs": [],
   "execution_count": 90
  },
  {
   "metadata": {
    "ExecuteTime": {
     "end_time": "2025-03-04T14:27:30.135989Z",
     "start_time": "2025-03-04T14:27:20.592860Z"
    }
   },
   "cell_type": "code",
   "source": [
    "pattern = r\"https://tabiturient\\.ru/vuzu/.*/proxodnoi$\"\n",
    "\n",
    "# Проверяем, содержит ли хотя бы одна ячейка строки нужный шаблон\n",
    "mask = data.apply(lambda row: row.str.contains(pattern, regex=True, na=False).any(), axis=1)\n",
    "data_vizu_dup = data[mask]"
   ],
   "id": "ca88899982ba76fc",
   "outputs": [],
   "execution_count": 83
  },
  {
   "metadata": {
    "ExecuteTime": {
     "end_time": "2025-03-04T14:27:30.201908Z",
     "start_time": "2025-03-04T14:27:30.191515Z"
    }
   },
   "cell_type": "code",
   "source": "data_vizu_dup",
   "id": "f222d6caf11b92d9",
   "outputs": [
    {
     "data": {
      "text/plain": [
       "                                                     url\n",
       "41           https://tabiturient.ru/vuzu/agatu/proxodnoi\n",
       "68      https://tabiturient.ru/vuzu/bigpibiysk/proxodnoi\n",
       "102        https://tabiturient.ru/vuzu/altgaki/proxodnoi\n",
       "134          https://tabiturient.ru/vuzu/agiki/proxodnoi\n",
       "156           https://tabiturient.ru/vuzu/asmu/proxodnoi\n",
       "...                                                  ...\n",
       "25811  https://tabiturient.ru/vuzu/theatrinsyar/proxo...\n",
       "25819         https://tabiturient.ru/vuzu/ystu/proxodnoi\n",
       "25875     https://tabiturient.ru/vuzu/uniyarac/proxodnoi\n",
       "25916     https://tabiturient.ru/vuzu/yarpgups/proxodnoi\n",
       "25926  https://tabiturient.ru/vuzu/fa_yaroslavl/proxo...\n",
       "\n",
       "[801 rows x 1 columns]"
      ],
      "text/html": [
       "<div>\n",
       "<style scoped>\n",
       "    .dataframe tbody tr th:only-of-type {\n",
       "        vertical-align: middle;\n",
       "    }\n",
       "\n",
       "    .dataframe tbody tr th {\n",
       "        vertical-align: top;\n",
       "    }\n",
       "\n",
       "    .dataframe thead th {\n",
       "        text-align: right;\n",
       "    }\n",
       "</style>\n",
       "<table border=\"1\" class=\"dataframe\">\n",
       "  <thead>\n",
       "    <tr style=\"text-align: right;\">\n",
       "      <th></th>\n",
       "      <th>url</th>\n",
       "    </tr>\n",
       "  </thead>\n",
       "  <tbody>\n",
       "    <tr>\n",
       "      <th>41</th>\n",
       "      <td>https://tabiturient.ru/vuzu/agatu/proxodnoi</td>\n",
       "    </tr>\n",
       "    <tr>\n",
       "      <th>68</th>\n",
       "      <td>https://tabiturient.ru/vuzu/bigpibiysk/proxodnoi</td>\n",
       "    </tr>\n",
       "    <tr>\n",
       "      <th>102</th>\n",
       "      <td>https://tabiturient.ru/vuzu/altgaki/proxodnoi</td>\n",
       "    </tr>\n",
       "    <tr>\n",
       "      <th>134</th>\n",
       "      <td>https://tabiturient.ru/vuzu/agiki/proxodnoi</td>\n",
       "    </tr>\n",
       "    <tr>\n",
       "      <th>156</th>\n",
       "      <td>https://tabiturient.ru/vuzu/asmu/proxodnoi</td>\n",
       "    </tr>\n",
       "    <tr>\n",
       "      <th>...</th>\n",
       "      <td>...</td>\n",
       "    </tr>\n",
       "    <tr>\n",
       "      <th>25811</th>\n",
       "      <td>https://tabiturient.ru/vuzu/theatrinsyar/proxo...</td>\n",
       "    </tr>\n",
       "    <tr>\n",
       "      <th>25819</th>\n",
       "      <td>https://tabiturient.ru/vuzu/ystu/proxodnoi</td>\n",
       "    </tr>\n",
       "    <tr>\n",
       "      <th>25875</th>\n",
       "      <td>https://tabiturient.ru/vuzu/uniyarac/proxodnoi</td>\n",
       "    </tr>\n",
       "    <tr>\n",
       "      <th>25916</th>\n",
       "      <td>https://tabiturient.ru/vuzu/yarpgups/proxodnoi</td>\n",
       "    </tr>\n",
       "    <tr>\n",
       "      <th>25926</th>\n",
       "      <td>https://tabiturient.ru/vuzu/fa_yaroslavl/proxo...</td>\n",
       "    </tr>\n",
       "  </tbody>\n",
       "</table>\n",
       "<p>801 rows × 1 columns</p>\n",
       "</div>"
      ]
     },
     "execution_count": 84,
     "metadata": {},
     "output_type": "execute_result"
    }
   ],
   "execution_count": 84
  },
  {
   "metadata": {
    "ExecuteTime": {
     "end_time": "2025-03-04T14:27:30.298560Z",
     "start_time": "2025-03-04T14:27:30.291870Z"
    }
   },
   "cell_type": "code",
   "source": "exclusive_df1 = data_vizu_dup[~data_vizu_dup['url'].isin(data_vizu['url'])]",
   "id": "a77d791d8a9c1f99",
   "outputs": [],
   "execution_count": 85
  },
  {
   "metadata": {
    "ExecuteTime": {
     "end_time": "2025-03-04T14:27:30.360419Z",
     "start_time": "2025-03-04T14:27:30.349430Z"
    }
   },
   "cell_type": "code",
   "source": "exclusive_df1",
   "id": "f53e85b580ee4df4",
   "outputs": [
    {
     "data": {
      "text/plain": [
       "                                              url\n",
       "452   https://tabiturient.ru/vuzu/ачгаа/proxodnoi\n",
       "1929  https://tabiturient.ru/vuzu/билгу/proxodnoi\n",
       "5049   https://tabiturient.ru/vuzu/дрти/proxodnoi"
      ],
      "text/html": [
       "<div>\n",
       "<style scoped>\n",
       "    .dataframe tbody tr th:only-of-type {\n",
       "        vertical-align: middle;\n",
       "    }\n",
       "\n",
       "    .dataframe tbody tr th {\n",
       "        vertical-align: top;\n",
       "    }\n",
       "\n",
       "    .dataframe thead th {\n",
       "        text-align: right;\n",
       "    }\n",
       "</style>\n",
       "<table border=\"1\" class=\"dataframe\">\n",
       "  <thead>\n",
       "    <tr style=\"text-align: right;\">\n",
       "      <th></th>\n",
       "      <th>url</th>\n",
       "    </tr>\n",
       "  </thead>\n",
       "  <tbody>\n",
       "    <tr>\n",
       "      <th>452</th>\n",
       "      <td>https://tabiturient.ru/vuzu/ачгаа/proxodnoi</td>\n",
       "    </tr>\n",
       "    <tr>\n",
       "      <th>1929</th>\n",
       "      <td>https://tabiturient.ru/vuzu/билгу/proxodnoi</td>\n",
       "    </tr>\n",
       "    <tr>\n",
       "      <th>5049</th>\n",
       "      <td>https://tabiturient.ru/vuzu/дрти/proxodnoi</td>\n",
       "    </tr>\n",
       "  </tbody>\n",
       "</table>\n",
       "</div>"
      ]
     },
     "execution_count": 86,
     "metadata": {},
     "output_type": "execute_result"
    }
   ],
   "execution_count": 86
  },
  {
   "metadata": {
    "ExecuteTime": {
     "end_time": "2025-03-04T14:31:17.774125Z",
     "start_time": "2025-03-04T14:31:07.815083Z"
    }
   },
   "cell_type": "code",
   "source": [
    "pattern = r\"https://tabiturient\\.ru/vuzu/[A-Za-z0-9_.-]+/obsh\"\n",
    "\n",
    "# Проверяем, содержит ли хотя бы одна ячейка строки нужный шаблон\n",
    "mask = data.apply(lambda row: row.str.contains(pattern, regex=True, na=False).any(), axis=1)\n",
    "data_vizu_obsh = data[mask]"
   ],
   "id": "2e50afdb77d3e3d9",
   "outputs": [],
   "execution_count": 91
  },
  {
   "metadata": {
    "ExecuteTime": {
     "end_time": "2025-03-04T14:31:21.087039Z",
     "start_time": "2025-03-04T14:31:21.071549Z"
    }
   },
   "cell_type": "code",
   "outputs": [
    {
     "data": {
      "text/plain": [
       "                                                 url\n",
       "65            https://tabiturient.ru/vuzu/agatu/obsh\n",
       "99       https://tabiturient.ru/vuzu/bigpibiysk/obsh\n",
       "131         https://tabiturient.ru/vuzu/altgaki/obsh\n",
       "153           https://tabiturient.ru/vuzu/agiki/obsh\n",
       "164            https://tabiturient.ru/vuzu/asmu/obsh\n",
       "...                                              ...\n",
       "25816  https://tabiturient.ru/vuzu/theatrinsyar/obsh\n",
       "25872          https://tabiturient.ru/vuzu/ystu/obsh\n",
       "25913      https://tabiturient.ru/vuzu/uniyarac/obsh\n",
       "25923      https://tabiturient.ru/vuzu/yarpgups/obsh\n",
       "25934  https://tabiturient.ru/vuzu/fa_yaroslavl/obsh\n",
       "\n",
       "[798 rows x 1 columns]"
      ],
      "text/html": [
       "<div>\n",
       "<style scoped>\n",
       "    .dataframe tbody tr th:only-of-type {\n",
       "        vertical-align: middle;\n",
       "    }\n",
       "\n",
       "    .dataframe tbody tr th {\n",
       "        vertical-align: top;\n",
       "    }\n",
       "\n",
       "    .dataframe thead th {\n",
       "        text-align: right;\n",
       "    }\n",
       "</style>\n",
       "<table border=\"1\" class=\"dataframe\">\n",
       "  <thead>\n",
       "    <tr style=\"text-align: right;\">\n",
       "      <th></th>\n",
       "      <th>url</th>\n",
       "    </tr>\n",
       "  </thead>\n",
       "  <tbody>\n",
       "    <tr>\n",
       "      <th>65</th>\n",
       "      <td>https://tabiturient.ru/vuzu/agatu/obsh</td>\n",
       "    </tr>\n",
       "    <tr>\n",
       "      <th>99</th>\n",
       "      <td>https://tabiturient.ru/vuzu/bigpibiysk/obsh</td>\n",
       "    </tr>\n",
       "    <tr>\n",
       "      <th>131</th>\n",
       "      <td>https://tabiturient.ru/vuzu/altgaki/obsh</td>\n",
       "    </tr>\n",
       "    <tr>\n",
       "      <th>153</th>\n",
       "      <td>https://tabiturient.ru/vuzu/agiki/obsh</td>\n",
       "    </tr>\n",
       "    <tr>\n",
       "      <th>164</th>\n",
       "      <td>https://tabiturient.ru/vuzu/asmu/obsh</td>\n",
       "    </tr>\n",
       "    <tr>\n",
       "      <th>...</th>\n",
       "      <td>...</td>\n",
       "    </tr>\n",
       "    <tr>\n",
       "      <th>25816</th>\n",
       "      <td>https://tabiturient.ru/vuzu/theatrinsyar/obsh</td>\n",
       "    </tr>\n",
       "    <tr>\n",
       "      <th>25872</th>\n",
       "      <td>https://tabiturient.ru/vuzu/ystu/obsh</td>\n",
       "    </tr>\n",
       "    <tr>\n",
       "      <th>25913</th>\n",
       "      <td>https://tabiturient.ru/vuzu/uniyarac/obsh</td>\n",
       "    </tr>\n",
       "    <tr>\n",
       "      <th>25923</th>\n",
       "      <td>https://tabiturient.ru/vuzu/yarpgups/obsh</td>\n",
       "    </tr>\n",
       "    <tr>\n",
       "      <th>25934</th>\n",
       "      <td>https://tabiturient.ru/vuzu/fa_yaroslavl/obsh</td>\n",
       "    </tr>\n",
       "  </tbody>\n",
       "</table>\n",
       "<p>798 rows × 1 columns</p>\n",
       "</div>"
      ]
     },
     "execution_count": 92,
     "metadata": {},
     "output_type": "execute_result"
    }
   ],
   "source": "data_vizu_obsh",
   "id": "4ff7110d8f2632",
   "execution_count": null
  },
  {
   "metadata": {},
   "cell_type": "markdown",
   "source": [
    "```\n",
    "{\n",
    "\tvuz: {\n",
    "\t\tlong_name: string // полное название,\n",
    "\t\tshort_name: string // аббревиатура вуза\n",
    "\t\tgeolocation: string // регион\n",
    "\t\tis_goverment: boolean // True если гос вуз\n",
    "\t\trating: string // рейтинг (пока буквами)\n",
    "\t\tlogo: string // ссылка на фото\n",
    "\t\twebsite: string // ссылка на сайт вуза\n",
    "\t},\n",
    "\tprograms: [\n",
    "\t\t{\n",
    "\t\t\t!direction: string // направление\n",
    "\t\t\t!profile: string // профиль\n",
    "\t\t\t!program_code: string // код программы\n",
    "\t\t\t!vuz: string // аббревиатура вуза\n",
    "\t\t\t!faculty: string // факультет\n",
    "\t\t\t!exams: [[string]] // набор экзаменов\n",
    "\t\t\t!scores: [[score, form]] // баллы\n",
    "\t\t\t!education_form: string // форма обучения\n",
    "\t\t\t?free_places: int // бюджетных мест\n",
    "\t\t\t?average_score: float // средни проходной балл\n",
    "\t\t\t?olympic: int // по олимпиаде поступило\n",
    "\t\t\t?price: int // стоимость обучения\n",
    "\t\t}\n",
    "\t]\n",
    "\n",
    "}\n",
    "```"
   ],
   "id": "8c39ca4af49be370"
  },
  {
   "metadata": {},
   "cell_type": "code",
   "outputs": [],
   "execution_count": null,
   "source": "",
   "id": "9c135aba232ccbd9"
  }
 ],
 "metadata": {
  "kernelspec": {
   "display_name": "Python 3",
   "language": "python",
   "name": "python3"
  },
  "language_info": {
   "codemirror_mode": {
    "name": "ipython",
    "version": 2
   },
   "file_extension": ".py",
   "mimetype": "text/x-python",
   "name": "python",
   "nbconvert_exporter": "python",
   "pygments_lexer": "ipython2",
   "version": "2.7.6"
  }
 },
 "nbformat": 4,
 "nbformat_minor": 5
}
