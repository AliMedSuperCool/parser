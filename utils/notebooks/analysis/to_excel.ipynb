{
 "cells": [
  {
   "cell_type": "code",
   "id": "initial_id",
   "metadata": {
    "collapsed": true,
    "ExecuteTime": {
     "end_time": "2025-04-14T14:55:28.279117Z",
     "start_time": "2025-04-14T14:55:28.276703Z"
    }
   },
   "source": "import pandas as pd",
   "outputs": [],
   "execution_count": 1
  },
  {
   "metadata": {
    "ExecuteTime": {
     "end_time": "2025-04-14T15:04:10.994693Z",
     "start_time": "2025-04-14T15:04:10.982307Z"
    }
   },
   "cell_type": "code",
   "source": "df = pd.read_csv('../../../data/tabiturient/all/osbh_all.csv')",
   "id": "5cd9f1ce8b7bb196",
   "outputs": [],
   "execution_count": 10
  },
  {
   "metadata": {
    "ExecuteTime": {
     "end_time": "2025-04-14T15:04:11.862762Z",
     "start_time": "2025-04-14T15:04:11.779937Z"
    }
   },
   "cell_type": "code",
   "source": "df.to_excel('../../../data/tabiturient/processed_data/dormitory.xlsx', index=False)",
   "id": "6da1066d631607c6",
   "outputs": [],
   "execution_count": 11
  },
  {
   "metadata": {},
   "cell_type": "code",
   "outputs": [],
   "execution_count": null,
   "source": "",
   "id": "a87630a1fab09d70"
  }
 ],
 "metadata": {
  "kernelspec": {
   "display_name": "Python 3",
   "language": "python",
   "name": "python3"
  },
  "language_info": {
   "codemirror_mode": {
    "name": "ipython",
    "version": 2
   },
   "file_extension": ".py",
   "mimetype": "text/x-python",
   "name": "python",
   "nbconvert_exporter": "python",
   "pygments_lexer": "ipython2",
   "version": "2.7.6"
  }
 },
 "nbformat": 4,
 "nbformat_minor": 5
}
