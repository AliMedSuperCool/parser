{
 "cells": [
  {
   "metadata": {
    "ExecuteTime": {
     "end_time": "2025-03-13T11:18:15.508638Z",
     "start_time": "2025-03-13T11:18:14.959826Z"
    }
   },
   "cell_type": "code",
   "source": [
    "import numpy as np\n",
    "import pandas as pd"
   ],
   "id": "4119fd1b869106db",
   "outputs": [],
   "execution_count": 1
  },
  {
   "metadata": {},
   "cell_type": "code",
   "outputs": [],
   "execution_count": null,
   "source": [
    "import json\n",
    "import requests\n",
    "from bs4 import BeautifulSoup\n"
   ],
   "id": "e4486683a94504e5"
  },
  {
   "metadata": {},
   "cell_type": "code",
   "outputs": [],
   "execution_count": null,
   "source": [
    "\n",
    "st_accept = \"text/html\"  # говорим веб-серверу,\n",
    "# что хотим получить html\n",
    "# имитируем подключение через браузер Mozilla на macOS\n",
    "st_useragent = \"Mozilla/5.0 (Macintosh; Intel Mac OS X 12_3_1) AppleWebKit/605.1.15 (KHTML, like Gecko) Version/15.4 Safari/605.1.15\"\n",
    "# формируем хеш заголовков\n",
    "headers = {\n",
    "    \"Accept\": st_accept,\n",
    "    \"User-Agent\": st_useragent\n",
    "}\n",
    "\n",
    "\n",
    "def get_links_from_map():\n",
    "    # отправляем запрос с заголовками по нужному адресу\n",
    "    req = requests.get(\"https://tabiturient.ru/map/\", headers)\n",
    "    # считываем текст HTML-документа\n",
    "    src = req.text\n",
    "\n",
    "    soup = BeautifulSoup(src, 'html.parser')\n",
    "    # Извлекаем все теги <a> с атрибутом href\n",
    "    links = [link.get('href') for link in soup.find_all('a') if link.get('href')]\n",
    "    with open('../../../data/links.txt', 'w') as f:\n",
    "        for link in links:\n",
    "            f.write(f\"{link}\\n\")"
   ],
   "id": "8dc575e192a11661"
  },
  {
   "metadata": {
    "ExecuteTime": {
     "end_time": "2025-03-13T11:18:31.950613Z",
     "start_time": "2025-03-13T11:18:31.906750Z"
    }
   },
   "cell_type": "code",
   "source": "data = pd.read_csv('../../../data/links.txt')",
   "id": "28fc11d72f26154d",
   "outputs": [],
   "execution_count": 2
  },
  {
   "metadata": {
    "ExecuteTime": {
     "end_time": "2025-03-13T11:18:34.002452Z",
     "start_time": "2025-03-13T11:18:33.999712Z"
    }
   },
   "cell_type": "code",
   "source": "data.columns = [\"url\"]",
   "id": "35bc5dc4462fd27e",
   "outputs": [],
   "execution_count": 3
  },
  {
   "metadata": {
    "ExecuteTime": {
     "end_time": "2025-03-13T11:18:35.726012Z",
     "start_time": "2025-03-13T11:18:35.713626Z"
    }
   },
   "cell_type": "code",
   "source": "data",
   "id": "cb5968fe806c8f20",
   "outputs": [
    {
     "data": {
      "text/plain": [
       "                                         url\n",
       "0                     https://tabiturient.ru\n",
       "1                  https://tabiturient.ru/np\n",
       "2          https://tabiturient.ru/calculator\n",
       "3          https://tabiturient.ru/calculator\n",
       "4      https://tabiturient.ru/calculator/pay\n",
       "...                                      ...\n",
       "77316        https://tabiturient.ru/feedback\n",
       "77317   https://tabiturient.ru/admin2/ca.php\n",
       "77318             https://tabiturient.ru/adv\n",
       "77319          https://tabiturient.ru/vuzam2\n",
       "77320              https://tabiturient.ru/kp\n",
       "\n",
       "[77321 rows x 1 columns]"
      ],
      "text/html": [
       "<div>\n",
       "<style scoped>\n",
       "    .dataframe tbody tr th:only-of-type {\n",
       "        vertical-align: middle;\n",
       "    }\n",
       "\n",
       "    .dataframe tbody tr th {\n",
       "        vertical-align: top;\n",
       "    }\n",
       "\n",
       "    .dataframe thead th {\n",
       "        text-align: right;\n",
       "    }\n",
       "</style>\n",
       "<table border=\"1\" class=\"dataframe\">\n",
       "  <thead>\n",
       "    <tr style=\"text-align: right;\">\n",
       "      <th></th>\n",
       "      <th>url</th>\n",
       "    </tr>\n",
       "  </thead>\n",
       "  <tbody>\n",
       "    <tr>\n",
       "      <th>0</th>\n",
       "      <td>https://tabiturient.ru</td>\n",
       "    </tr>\n",
       "    <tr>\n",
       "      <th>1</th>\n",
       "      <td>https://tabiturient.ru/np</td>\n",
       "    </tr>\n",
       "    <tr>\n",
       "      <th>2</th>\n",
       "      <td>https://tabiturient.ru/calculator</td>\n",
       "    </tr>\n",
       "    <tr>\n",
       "      <th>3</th>\n",
       "      <td>https://tabiturient.ru/calculator</td>\n",
       "    </tr>\n",
       "    <tr>\n",
       "      <th>4</th>\n",
       "      <td>https://tabiturient.ru/calculator/pay</td>\n",
       "    </tr>\n",
       "    <tr>\n",
       "      <th>...</th>\n",
       "      <td>...</td>\n",
       "    </tr>\n",
       "    <tr>\n",
       "      <th>77316</th>\n",
       "      <td>https://tabiturient.ru/feedback</td>\n",
       "    </tr>\n",
       "    <tr>\n",
       "      <th>77317</th>\n",
       "      <td>https://tabiturient.ru/admin2/ca.php</td>\n",
       "    </tr>\n",
       "    <tr>\n",
       "      <th>77318</th>\n",
       "      <td>https://tabiturient.ru/adv</td>\n",
       "    </tr>\n",
       "    <tr>\n",
       "      <th>77319</th>\n",
       "      <td>https://tabiturient.ru/vuzam2</td>\n",
       "    </tr>\n",
       "    <tr>\n",
       "      <th>77320</th>\n",
       "      <td>https://tabiturient.ru/kp</td>\n",
       "    </tr>\n",
       "  </tbody>\n",
       "</table>\n",
       "<p>77321 rows × 1 columns</p>\n",
       "</div>"
      ]
     },
     "execution_count": 4,
     "metadata": {},
     "output_type": "execute_result"
    }
   ],
   "execution_count": 4
  },
  {
   "metadata": {
    "ExecuteTime": {
     "end_time": "2025-03-13T11:18:50.809082Z",
     "start_time": "2025-03-13T11:18:46.425314Z"
    }
   },
   "cell_type": "code",
   "source": [
    "pattern = r\"https://tabiturient\\.ru/vuzu/[A-Za-z0-9_.-]+/proxodnoi$\"\n",
    "\n",
    "# Проверяем, содержит ли хотя бы одна ячейка строки нужный шаблон\n",
    "mask = data.apply(lambda row: row.str.contains(pattern, regex=True, na=False).any(), axis=1)\n",
    "data_vizu = data[mask]"
   ],
   "id": "a0c638b0ea23d8e1",
   "outputs": [],
   "execution_count": 5
  },
  {
   "metadata": {
    "ExecuteTime": {
     "end_time": "2025-03-13T11:18:50.853866Z",
     "start_time": "2025-03-13T11:18:50.842636Z"
    }
   },
   "cell_type": "code",
   "source": "data_vizu",
   "id": "964ee734a00b74aa",
   "outputs": [
    {
     "data": {
      "text/plain": [
       "                                                     url\n",
       "41           https://tabiturient.ru/vuzu/agatu/proxodnoi\n",
       "68      https://tabiturient.ru/vuzu/bigpibiysk/proxodnoi\n",
       "102        https://tabiturient.ru/vuzu/altgaki/proxodnoi\n",
       "134          https://tabiturient.ru/vuzu/agiki/proxodnoi\n",
       "156           https://tabiturient.ru/vuzu/asmu/proxodnoi\n",
       "...                                                  ...\n",
       "25811  https://tabiturient.ru/vuzu/theatrinsyar/proxo...\n",
       "25819         https://tabiturient.ru/vuzu/ystu/proxodnoi\n",
       "25875     https://tabiturient.ru/vuzu/uniyarac/proxodnoi\n",
       "25916     https://tabiturient.ru/vuzu/yarpgups/proxodnoi\n",
       "25926  https://tabiturient.ru/vuzu/fa_yaroslavl/proxo...\n",
       "\n",
       "[798 rows x 1 columns]"
      ],
      "text/html": [
       "<div>\n",
       "<style scoped>\n",
       "    .dataframe tbody tr th:only-of-type {\n",
       "        vertical-align: middle;\n",
       "    }\n",
       "\n",
       "    .dataframe tbody tr th {\n",
       "        vertical-align: top;\n",
       "    }\n",
       "\n",
       "    .dataframe thead th {\n",
       "        text-align: right;\n",
       "    }\n",
       "</style>\n",
       "<table border=\"1\" class=\"dataframe\">\n",
       "  <thead>\n",
       "    <tr style=\"text-align: right;\">\n",
       "      <th></th>\n",
       "      <th>url</th>\n",
       "    </tr>\n",
       "  </thead>\n",
       "  <tbody>\n",
       "    <tr>\n",
       "      <th>41</th>\n",
       "      <td>https://tabiturient.ru/vuzu/agatu/proxodnoi</td>\n",
       "    </tr>\n",
       "    <tr>\n",
       "      <th>68</th>\n",
       "      <td>https://tabiturient.ru/vuzu/bigpibiysk/proxodnoi</td>\n",
       "    </tr>\n",
       "    <tr>\n",
       "      <th>102</th>\n",
       "      <td>https://tabiturient.ru/vuzu/altgaki/proxodnoi</td>\n",
       "    </tr>\n",
       "    <tr>\n",
       "      <th>134</th>\n",
       "      <td>https://tabiturient.ru/vuzu/agiki/proxodnoi</td>\n",
       "    </tr>\n",
       "    <tr>\n",
       "      <th>156</th>\n",
       "      <td>https://tabiturient.ru/vuzu/asmu/proxodnoi</td>\n",
       "    </tr>\n",
       "    <tr>\n",
       "      <th>...</th>\n",
       "      <td>...</td>\n",
       "    </tr>\n",
       "    <tr>\n",
       "      <th>25811</th>\n",
       "      <td>https://tabiturient.ru/vuzu/theatrinsyar/proxo...</td>\n",
       "    </tr>\n",
       "    <tr>\n",
       "      <th>25819</th>\n",
       "      <td>https://tabiturient.ru/vuzu/ystu/proxodnoi</td>\n",
       "    </tr>\n",
       "    <tr>\n",
       "      <th>25875</th>\n",
       "      <td>https://tabiturient.ru/vuzu/uniyarac/proxodnoi</td>\n",
       "    </tr>\n",
       "    <tr>\n",
       "      <th>25916</th>\n",
       "      <td>https://tabiturient.ru/vuzu/yarpgups/proxodnoi</td>\n",
       "    </tr>\n",
       "    <tr>\n",
       "      <th>25926</th>\n",
       "      <td>https://tabiturient.ru/vuzu/fa_yaroslavl/proxo...</td>\n",
       "    </tr>\n",
       "  </tbody>\n",
       "</table>\n",
       "<p>798 rows × 1 columns</p>\n",
       "</div>"
      ]
     },
     "execution_count": 6,
     "metadata": {},
     "output_type": "execute_result"
    }
   ],
   "execution_count": 6
  },
  {
   "metadata": {
    "ExecuteTime": {
     "end_time": "2025-03-13T11:18:52.893602Z",
     "start_time": "2025-03-13T11:18:52.880342Z"
    }
   },
   "cell_type": "code",
   "source": "data_vizu.to_csv('vizu_lins.csv', index=False)",
   "id": "db65f4d35a1e243b",
   "outputs": [],
   "execution_count": 7
  },
  {
   "metadata": {
    "ExecuteTime": {
     "end_time": "2025-03-13T11:19:12.781554Z",
     "start_time": "2025-03-13T11:19:07.180126Z"
    }
   },
   "cell_type": "code",
   "source": [
    "pattern = r\"https://tabiturient\\.ru/vuzu/.*/proxodnoi$\"\n",
    "\n",
    "# Проверяем, содержит ли хотя бы одна ячейка строки нужный шаблон\n",
    "mask = data.apply(lambda row: row.str.contains(pattern, regex=True, na=False).any(), axis=1)\n",
    "data_vizu_dup = data[mask]"
   ],
   "id": "ca88899982ba76fc",
   "outputs": [],
   "execution_count": 8
  },
  {
   "metadata": {
    "ExecuteTime": {
     "end_time": "2025-03-13T11:19:17.791847Z",
     "start_time": "2025-03-13T11:19:17.787377Z"
    }
   },
   "cell_type": "code",
   "source": "data_vizu_dup",
   "id": "f222d6caf11b92d9",
   "outputs": [
    {
     "data": {
      "text/plain": [
       "                                                     url\n",
       "41           https://tabiturient.ru/vuzu/agatu/proxodnoi\n",
       "68      https://tabiturient.ru/vuzu/bigpibiysk/proxodnoi\n",
       "102        https://tabiturient.ru/vuzu/altgaki/proxodnoi\n",
       "134          https://tabiturient.ru/vuzu/agiki/proxodnoi\n",
       "156           https://tabiturient.ru/vuzu/asmu/proxodnoi\n",
       "...                                                  ...\n",
       "25811  https://tabiturient.ru/vuzu/theatrinsyar/proxo...\n",
       "25819         https://tabiturient.ru/vuzu/ystu/proxodnoi\n",
       "25875     https://tabiturient.ru/vuzu/uniyarac/proxodnoi\n",
       "25916     https://tabiturient.ru/vuzu/yarpgups/proxodnoi\n",
       "25926  https://tabiturient.ru/vuzu/fa_yaroslavl/proxo...\n",
       "\n",
       "[801 rows x 1 columns]"
      ],
      "text/html": [
       "<div>\n",
       "<style scoped>\n",
       "    .dataframe tbody tr th:only-of-type {\n",
       "        vertical-align: middle;\n",
       "    }\n",
       "\n",
       "    .dataframe tbody tr th {\n",
       "        vertical-align: top;\n",
       "    }\n",
       "\n",
       "    .dataframe thead th {\n",
       "        text-align: right;\n",
       "    }\n",
       "</style>\n",
       "<table border=\"1\" class=\"dataframe\">\n",
       "  <thead>\n",
       "    <tr style=\"text-align: right;\">\n",
       "      <th></th>\n",
       "      <th>url</th>\n",
       "    </tr>\n",
       "  </thead>\n",
       "  <tbody>\n",
       "    <tr>\n",
       "      <th>41</th>\n",
       "      <td>https://tabiturient.ru/vuzu/agatu/proxodnoi</td>\n",
       "    </tr>\n",
       "    <tr>\n",
       "      <th>68</th>\n",
       "      <td>https://tabiturient.ru/vuzu/bigpibiysk/proxodnoi</td>\n",
       "    </tr>\n",
       "    <tr>\n",
       "      <th>102</th>\n",
       "      <td>https://tabiturient.ru/vuzu/altgaki/proxodnoi</td>\n",
       "    </tr>\n",
       "    <tr>\n",
       "      <th>134</th>\n",
       "      <td>https://tabiturient.ru/vuzu/agiki/proxodnoi</td>\n",
       "    </tr>\n",
       "    <tr>\n",
       "      <th>156</th>\n",
       "      <td>https://tabiturient.ru/vuzu/asmu/proxodnoi</td>\n",
       "    </tr>\n",
       "    <tr>\n",
       "      <th>...</th>\n",
       "      <td>...</td>\n",
       "    </tr>\n",
       "    <tr>\n",
       "      <th>25811</th>\n",
       "      <td>https://tabiturient.ru/vuzu/theatrinsyar/proxo...</td>\n",
       "    </tr>\n",
       "    <tr>\n",
       "      <th>25819</th>\n",
       "      <td>https://tabiturient.ru/vuzu/ystu/proxodnoi</td>\n",
       "    </tr>\n",
       "    <tr>\n",
       "      <th>25875</th>\n",
       "      <td>https://tabiturient.ru/vuzu/uniyarac/proxodnoi</td>\n",
       "    </tr>\n",
       "    <tr>\n",
       "      <th>25916</th>\n",
       "      <td>https://tabiturient.ru/vuzu/yarpgups/proxodnoi</td>\n",
       "    </tr>\n",
       "    <tr>\n",
       "      <th>25926</th>\n",
       "      <td>https://tabiturient.ru/vuzu/fa_yaroslavl/proxo...</td>\n",
       "    </tr>\n",
       "  </tbody>\n",
       "</table>\n",
       "<p>801 rows × 1 columns</p>\n",
       "</div>"
      ]
     },
     "execution_count": 9,
     "metadata": {},
     "output_type": "execute_result"
    }
   ],
   "execution_count": 9
  },
  {
   "metadata": {
    "ExecuteTime": {
     "end_time": "2025-03-13T11:19:19.826549Z",
     "start_time": "2025-03-13T11:19:19.818023Z"
    }
   },
   "cell_type": "code",
   "source": "exclusive_df1 = data_vizu_dup[~data_vizu_dup['url'].isin(data_vizu['url'])]",
   "id": "a77d791d8a9c1f99",
   "outputs": [],
   "execution_count": 10
  },
  {
   "metadata": {
    "ExecuteTime": {
     "end_time": "2025-03-13T11:19:21.335436Z",
     "start_time": "2025-03-13T11:19:21.329443Z"
    }
   },
   "cell_type": "code",
   "source": "exclusive_df1",
   "id": "f53e85b580ee4df4",
   "outputs": [
    {
     "data": {
      "text/plain": [
       "                                              url\n",
       "452   https://tabiturient.ru/vuzu/ачгаа/proxodnoi\n",
       "1929  https://tabiturient.ru/vuzu/билгу/proxodnoi\n",
       "5049   https://tabiturient.ru/vuzu/дрти/proxodnoi"
      ],
      "text/html": [
       "<div>\n",
       "<style scoped>\n",
       "    .dataframe tbody tr th:only-of-type {\n",
       "        vertical-align: middle;\n",
       "    }\n",
       "\n",
       "    .dataframe tbody tr th {\n",
       "        vertical-align: top;\n",
       "    }\n",
       "\n",
       "    .dataframe thead th {\n",
       "        text-align: right;\n",
       "    }\n",
       "</style>\n",
       "<table border=\"1\" class=\"dataframe\">\n",
       "  <thead>\n",
       "    <tr style=\"text-align: right;\">\n",
       "      <th></th>\n",
       "      <th>url</th>\n",
       "    </tr>\n",
       "  </thead>\n",
       "  <tbody>\n",
       "    <tr>\n",
       "      <th>452</th>\n",
       "      <td>https://tabiturient.ru/vuzu/ачгаа/proxodnoi</td>\n",
       "    </tr>\n",
       "    <tr>\n",
       "      <th>1929</th>\n",
       "      <td>https://tabiturient.ru/vuzu/билгу/proxodnoi</td>\n",
       "    </tr>\n",
       "    <tr>\n",
       "      <th>5049</th>\n",
       "      <td>https://tabiturient.ru/vuzu/дрти/proxodnoi</td>\n",
       "    </tr>\n",
       "  </tbody>\n",
       "</table>\n",
       "</div>"
      ]
     },
     "execution_count": 11,
     "metadata": {},
     "output_type": "execute_result"
    }
   ],
   "execution_count": 11
  },
  {
   "metadata": {
    "ExecuteTime": {
     "end_time": "2025-03-13T11:19:35.351432Z",
     "start_time": "2025-03-13T11:19:30.629925Z"
    }
   },
   "cell_type": "code",
   "source": [
    "pattern = r\"https://tabiturient\\.ru/vuzu/[A-Za-z0-9_.-]+/obsh\"\n",
    "\n",
    "# Проверяем, содержит ли хотя бы одна ячейка строки нужный шаблон\n",
    "mask = data.apply(lambda row: row.str.contains(pattern, regex=True, na=False).any(), axis=1)\n",
    "data_vizu_obsh = data[mask]"
   ],
   "id": "2e50afdb77d3e3d9",
   "outputs": [],
   "execution_count": 12
  },
  {
   "metadata": {
    "ExecuteTime": {
     "end_time": "2025-03-13T11:19:35.372748Z",
     "start_time": "2025-03-13T11:19:35.366605Z"
    }
   },
   "cell_type": "code",
   "source": "data_vizu_obsh",
   "id": "4ff7110d8f2632",
   "outputs": [
    {
     "data": {
      "text/plain": [
       "                                                 url\n",
       "65            https://tabiturient.ru/vuzu/agatu/obsh\n",
       "99       https://tabiturient.ru/vuzu/bigpibiysk/obsh\n",
       "131         https://tabiturient.ru/vuzu/altgaki/obsh\n",
       "153           https://tabiturient.ru/vuzu/agiki/obsh\n",
       "164            https://tabiturient.ru/vuzu/asmu/obsh\n",
       "...                                              ...\n",
       "25816  https://tabiturient.ru/vuzu/theatrinsyar/obsh\n",
       "25872          https://tabiturient.ru/vuzu/ystu/obsh\n",
       "25913      https://tabiturient.ru/vuzu/uniyarac/obsh\n",
       "25923      https://tabiturient.ru/vuzu/yarpgups/obsh\n",
       "25934  https://tabiturient.ru/vuzu/fa_yaroslavl/obsh\n",
       "\n",
       "[798 rows x 1 columns]"
      ],
      "text/html": [
       "<div>\n",
       "<style scoped>\n",
       "    .dataframe tbody tr th:only-of-type {\n",
       "        vertical-align: middle;\n",
       "    }\n",
       "\n",
       "    .dataframe tbody tr th {\n",
       "        vertical-align: top;\n",
       "    }\n",
       "\n",
       "    .dataframe thead th {\n",
       "        text-align: right;\n",
       "    }\n",
       "</style>\n",
       "<table border=\"1\" class=\"dataframe\">\n",
       "  <thead>\n",
       "    <tr style=\"text-align: right;\">\n",
       "      <th></th>\n",
       "      <th>url</th>\n",
       "    </tr>\n",
       "  </thead>\n",
       "  <tbody>\n",
       "    <tr>\n",
       "      <th>65</th>\n",
       "      <td>https://tabiturient.ru/vuzu/agatu/obsh</td>\n",
       "    </tr>\n",
       "    <tr>\n",
       "      <th>99</th>\n",
       "      <td>https://tabiturient.ru/vuzu/bigpibiysk/obsh</td>\n",
       "    </tr>\n",
       "    <tr>\n",
       "      <th>131</th>\n",
       "      <td>https://tabiturient.ru/vuzu/altgaki/obsh</td>\n",
       "    </tr>\n",
       "    <tr>\n",
       "      <th>153</th>\n",
       "      <td>https://tabiturient.ru/vuzu/agiki/obsh</td>\n",
       "    </tr>\n",
       "    <tr>\n",
       "      <th>164</th>\n",
       "      <td>https://tabiturient.ru/vuzu/asmu/obsh</td>\n",
       "    </tr>\n",
       "    <tr>\n",
       "      <th>...</th>\n",
       "      <td>...</td>\n",
       "    </tr>\n",
       "    <tr>\n",
       "      <th>25816</th>\n",
       "      <td>https://tabiturient.ru/vuzu/theatrinsyar/obsh</td>\n",
       "    </tr>\n",
       "    <tr>\n",
       "      <th>25872</th>\n",
       "      <td>https://tabiturient.ru/vuzu/ystu/obsh</td>\n",
       "    </tr>\n",
       "    <tr>\n",
       "      <th>25913</th>\n",
       "      <td>https://tabiturient.ru/vuzu/uniyarac/obsh</td>\n",
       "    </tr>\n",
       "    <tr>\n",
       "      <th>25923</th>\n",
       "      <td>https://tabiturient.ru/vuzu/yarpgups/obsh</td>\n",
       "    </tr>\n",
       "    <tr>\n",
       "      <th>25934</th>\n",
       "      <td>https://tabiturient.ru/vuzu/fa_yaroslavl/obsh</td>\n",
       "    </tr>\n",
       "  </tbody>\n",
       "</table>\n",
       "<p>798 rows × 1 columns</p>\n",
       "</div>"
      ]
     },
     "execution_count": 13,
     "metadata": {},
     "output_type": "execute_result"
    }
   ],
   "execution_count": 13
  },
  {
   "metadata": {},
   "cell_type": "markdown",
   "source": [
    "```\n",
    "{\n",
    "\tvuz: {\n",
    "\t\tlong_name: string // полное название,\n",
    "\t\tshort_name: string // аббревиатура вуза\n",
    "\t\tgeolocation: string // регион\n",
    "\t\tis_goverment: boolean // True если гос вуз\n",
    "\t\trating: string // рейтинг (пока буквами)\n",
    "\t\tlogo: string // ссылка на фото\n",
    "\t\twebsite: string // ссылка на сайт вуза\n",
    "\t},\n",
    "\tprograms: [\n",
    "\t\t{\n",
    "\t\t\t!direction: string // направление\n",
    "\t\t\t!profile: string // профиль\n",
    "\t\t\t!program_code: string // код программы\n",
    "\t\t\t!vuz: string // аббревиатура вуза\n",
    "\t\t\t!faculty: string // факультет\n",
    "\t\t\t!exams: [[string]] // набор экзаменов\n",
    "\t\t\t!scores: [[score, form]] // баллы\n",
    "\t\t\t!education_form: string // форма обучения\n",
    "\t\t\t?free_places: int // бюджетных мест\n",
    "\t\t\t?average_score: float // средни проходной балл\n",
    "\t\t\t?olympic: int // по олимпиаде поступило\n",
    "\t\t\t?price: int // стоимость обучения\n",
    "\t\t}\n",
    "\t]\n",
    "\n",
    "}\n",
    "```"
   ],
   "id": "8c39ca4af49be370"
  },
  {
   "metadata": {
    "ExecuteTime": {
     "end_time": "2025-03-06T12:57:28.610034Z",
     "start_time": "2025-03-06T12:57:28.605039Z"
    }
   },
   "cell_type": "code",
   "source": [
    "line = {\"hui\": \"ручка\"}\n",
    "json.dumps(line)\n",
    "\n",
    "# for key value:\n",
    "#     if key = exams\n",
    "#       put_in_csv(json.dumps(value))"
   ],
   "id": "f7d52e5205a3799e",
   "outputs": [
    {
     "data": {
      "text/plain": [
       "'{\"hui\": \"\\\\u0440\\\\u0443\\\\u0447\\\\u043a\\\\u0430\"}'"
      ]
     },
     "execution_count": 9,
     "metadata": {},
     "output_type": "execute_result"
    }
   ],
   "execution_count": 9
  },
  {
   "metadata": {},
   "cell_type": "markdown",
   "source": "",
   "id": "1651cad82b19d3f2"
  },
  {
   "metadata": {
    "ExecuteTime": {
     "end_time": "2025-03-06T13:41:41.295262Z",
     "start_time": "2025-03-06T13:41:41.290545Z"
    }
   },
   "cell_type": "code",
   "source": [
    "dict1 = {'forms': [\n",
    "    {\n",
    "        'education_form2': 'Очная',\n",
    "        'score': 'Только платное',\n",
    "        'free_places': 'Нет данных',\n",
    "        'average_score': 'no data',\n",
    "        'olympic': 'no data',\n",
    "        'price': -319100\n",
    "    },\n",
    "    {\n",
    "        'education_form2': 'Заочная',\n",
    "        'score': 'Только платное',\n",
    "        'free_places': 'Нет данных',\n",
    "        'average_score': 'no data',\n",
    "        'olympic': 'no data',\n",
    "        'price': -80000\n",
    "    }\n",
    "]\n",
    "}"
   ],
   "id": "a747b6225f6c6f7b",
   "outputs": [],
   "execution_count": 22
  },
  {
   "metadata": {
    "ExecuteTime": {
     "end_time": "2025-03-06T13:41:43.771379Z",
     "start_time": "2025-03-06T13:41:43.768165Z"
    }
   },
   "cell_type": "code",
   "source": "dict1 = dict1['forms']",
   "id": "1a0924b29dbc4779",
   "outputs": [],
   "execution_count": 23
  },
  {
   "metadata": {
    "ExecuteTime": {
     "end_time": "2025-03-06T13:55:51.036367Z",
     "start_time": "2025-03-06T13:55:51.030387Z"
    }
   },
   "cell_type": "code",
   "source": [
    "\n",
    "str1 = json.dumps(dict1, ensure_ascii=False)\n",
    "str1"
   ],
   "id": "e2e0f5b5f38d7d8f",
   "outputs": [
    {
     "data": {
      "text/plain": [
       "'[{\"education_form2\": \"Очная\", \"score\": \"Только платное\", \"free_places\": \"Нет данных\", \"average_score\": \"no data\", \"olympic\": \"no data\", \"price\": -319100}, {\"education_form2\": \"Заочная\", \"score\": \"Только платное\", \"free_places\": \"Нет данных\", \"average_score\": \"no data\", \"olympic\": \"no data\", \"price\": -80000}]'"
      ]
     },
     "execution_count": 30,
     "metadata": {},
     "output_type": "execute_result"
    }
   ],
   "execution_count": 30
  },
  {
   "metadata": {
    "ExecuteTime": {
     "end_time": "2025-03-06T13:56:11.911229Z",
     "start_time": "2025-03-06T13:56:11.905923Z"
    }
   },
   "cell_type": "code",
   "source": [
    "list1 = [['РЯ'], ['M'], ['ИКТ', 'Ф']]\n",
    "str1 =json.dumps(list1, ensure_ascii=False)\n",
    "str1"
   ],
   "id": "631df49bfe3eb049",
   "outputs": [
    {
     "data": {
      "text/plain": [
       "'[[\"РЯ\"], [\"M\"], [\"ИКТ\", \"Ф\"]]'"
      ]
     },
     "execution_count": 31,
     "metadata": {},
     "output_type": "execute_result"
    }
   ],
   "execution_count": 31
  },
  {
   "metadata": {
    "ExecuteTime": {
     "end_time": "2025-03-06T23:15:08.872392Z",
     "start_time": "2025-03-06T23:15:08.869752Z"
    }
   },
   "cell_type": "code",
   "source": "",
   "id": "81e3b07cee9923e5",
   "outputs": [],
   "execution_count": 34
  },
  {
   "metadata": {
    "ExecuteTime": {
     "end_time": "2025-03-06T23:16:08.602211Z",
     "start_time": "2025-03-06T23:16:08.585016Z"
    }
   },
   "cell_type": "code",
   "source": [
    "# Читаем исходный CSV-файл\n",
    "df = pd.read_csv('../../../data/vizu_lins.csv')\n",
    "\n",
    "# Разбиваем DataFrame на 4 части равного размера по числу строк\n",
    "parts = np.array_split(df, 4)\n",
    "\n",
    "# Сохраняем каждую часть в отдельный файл\n",
    "for i, part in enumerate(parts, start=1):\n",
    "    part.to_csv(f'data/vizu_lins_part{i}.csv', index=False)\n",
    "    print(f'Часть {i} сохранена в файл vizu_lins_part{i}.csv')"
   ],
   "id": "594e9196c6c32ce",
   "outputs": [
    {
     "name": "stdout",
     "output_type": "stream",
     "text": [
      "Часть 1 сохранена в файл vizu_lins_part1.csv\n",
      "Часть 2 сохранена в файл vizu_lins_part2.csv\n",
      "Часть 3 сохранена в файл vizu_lins_part3.csv\n",
      "Часть 4 сохранена в файл vizu_lins_part4.csv\n"
     ]
    },
    {
     "name": "stderr",
     "output_type": "stream",
     "text": [
      "/home/user/Desktop/PoVuzam/venv/lib/python3.12/site-packages/numpy/_core/fromnumeric.py:57: FutureWarning: 'DataFrame.swapaxes' is deprecated and will be removed in a future version. Please use 'DataFrame.transpose' instead.\n",
      "  return bound(*args, **kwds)\n"
     ]
    }
   ],
   "execution_count": 37
  },
  {
   "metadata": {
    "ExecuteTime": {
     "end_time": "2025-03-10T09:16:14.173875Z",
     "start_time": "2025-03-10T09:16:14.168089Z"
    }
   },
   "cell_type": "code",
   "source": [
    "import  requests\n",
    "\n",
    "st_accept = \"text/html\"  # говорим веб-серверу,\n",
    "# что хотим получить html\n",
    "# имитируем подключение через браузер Mozilla на macOS\n",
    "# формируем хеш заголовков\n",
    "headers = {\n",
    "    'accept': 'text/html,application/xhtml+xml,application/xml;q=0.9,image/avif,image/webp,image/apng,*/*;q=0.8,application/signed-exchange;v=b3;q=0.9',\n",
    "    'accept-encoding': 'gzip, deflate, br',\n",
    "    'accept-language': 'uk,en-US;q=0.9,en;q=0.8,ru;q=0.7',\n",
    "    'sec-ch-ua': '\"Google Chrome\";v=\"89\", \"Chromium\";v=\"89\", \";Not A Brand\";v=\"99\"',\n",
    "    'sec-ch-ua-mobile': '?0',\n",
    "    'sec-fetch-dest': 'document',\n",
    "    'sec-fetch-mode': 'navigate',\n",
    "    'sec-fetch-site': 'none',\n",
    "    'sec-fetch-user': '?1',\n",
    "    'upgrade-insecure-requests': '1',\n",
    "    'user-agent': 'Mozilla/5.0 (X11; Linux x86_64) AppleWebKit/537.36 (KHTML, like Gecko) Chrome/89.0.4389.90 Safari/537.36'\n",
    "}\n",
    "\n",
    "\n",
    "def get_links_from_map():\n",
    "    # отправляем запрос с заголовками по нужному адресу\n",
    "    req = requests.get(\"https://ishim.utmn.ru/\", headers)\n",
    "    # считываем текст HTML-документа\n",
    "    print(req)"
   ],
   "id": "f1bf6032784e1db1",
   "outputs": [],
   "execution_count": 8
  },
  {
   "metadata": {
    "ExecuteTime": {
     "end_time": "2025-03-10T09:16:15.172773Z",
     "start_time": "2025-03-10T09:16:14.708291Z"
    }
   },
   "cell_type": "code",
   "source": "get_links_from_map()",
   "id": "8c070750040df433",
   "outputs": [
    {
     "name": "stdout",
     "output_type": "stream",
     "text": [
      "<Response [403]>\n"
     ]
    }
   ],
   "execution_count": 9
  },
  {
   "metadata": {
    "ExecuteTime": {
     "end_time": "2025-03-13T11:57:10.569342Z",
     "start_time": "2025-03-13T11:57:10.558790Z"
    }
   },
   "cell_type": "code",
   "source": [
    "data_vizu_duplicates = data_vizu[data_vizu.duplicated(keep=False)]\n",
    "data_vizu_duplicates\n"
   ],
   "id": "c472ef9b86d2c593",
   "outputs": [
    {
     "data": {
      "text/plain": [
       "                                               url\n",
       "6365  https://tabiturient.ru/vuzu/iptdnn/proxodnoi\n",
       "6370  https://tabiturient.ru/vuzu/iptdnn/proxodnoi"
      ],
      "text/html": [
       "<div>\n",
       "<style scoped>\n",
       "    .dataframe tbody tr th:only-of-type {\n",
       "        vertical-align: middle;\n",
       "    }\n",
       "\n",
       "    .dataframe tbody tr th {\n",
       "        vertical-align: top;\n",
       "    }\n",
       "\n",
       "    .dataframe thead th {\n",
       "        text-align: right;\n",
       "    }\n",
       "</style>\n",
       "<table border=\"1\" class=\"dataframe\">\n",
       "  <thead>\n",
       "    <tr style=\"text-align: right;\">\n",
       "      <th></th>\n",
       "      <th>url</th>\n",
       "    </tr>\n",
       "  </thead>\n",
       "  <tbody>\n",
       "    <tr>\n",
       "      <th>6365</th>\n",
       "      <td>https://tabiturient.ru/vuzu/iptdnn/proxodnoi</td>\n",
       "    </tr>\n",
       "    <tr>\n",
       "      <th>6370</th>\n",
       "      <td>https://tabiturient.ru/vuzu/iptdnn/proxodnoi</td>\n",
       "    </tr>\n",
       "  </tbody>\n",
       "</table>\n",
       "</div>"
      ]
     },
     "execution_count": 14,
     "metadata": {},
     "output_type": "execute_result"
    }
   ],
   "execution_count": 14
  },
  {
   "metadata": {},
   "cell_type": "code",
   "outputs": [],
   "execution_count": null,
   "source": "",
   "id": "a9cc0e026853275f"
  }
 ],
 "metadata": {
  "kernelspec": {
   "display_name": "Python 3",
   "language": "python",
   "name": "python3"
  },
  "language_info": {
   "codemirror_mode": {
    "name": "ipython",
    "version": 2
   },
   "file_extension": ".py",
   "mimetype": "text/x-python",
   "name": "python",
   "nbconvert_exporter": "python",
   "pygments_lexer": "ipython2",
   "version": "2.7.6"
  }
 },
 "nbformat": 4,
 "nbformat_minor": 5
}
